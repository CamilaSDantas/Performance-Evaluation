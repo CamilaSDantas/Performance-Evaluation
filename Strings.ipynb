{
  "nbformat": 4,
  "nbformat_minor": 0,
  "metadata": {
    "colab": {
      "name": "Strings.ipynb",
      "provenance": [],
      "include_colab_link": true
    },
    "kernelspec": {
      "name": "python3",
      "display_name": "Python 3"
    },
    "language_info": {
      "name": "python"
    }
  },
  "cells": [
    {
      "cell_type": "markdown",
      "metadata": {
        "id": "view-in-github",
        "colab_type": "text"
      },
      "source": [
        "<a href=\"https://colab.research.google.com/github/CamilaSDantas/Performance-Evaluation/blob/main/Strings.ipynb\" target=\"_parent\"><img src=\"https://colab.research.google.com/assets/colab-badge.svg\" alt=\"Open In Colab\"/></a>"
      ]
    },
    {
      "cell_type": "markdown",
      "source": [
        "## Strings em Python"
      ],
      "metadata": {
        "id": "AavLONmOsjA-"
      }
    },
    {
      "cell_type": "code",
      "source": [
        "#Acessando caracteres diretamente\n",
        "s = \"Python\"\n",
        "print(s[3])\n",
        "print(s[1])"
      ],
      "metadata": {
        "colab": {
          "base_uri": "https://localhost:8080/"
        },
        "id": "ggANtf3oslr7",
        "outputId": "dc668f6b-22b5-4c53-bee5-8dadf6482eeb"
      },
      "execution_count": null,
      "outputs": [
        {
          "output_type": "stream",
          "name": "stdout",
          "text": [
            "h\n",
            "y\n"
          ]
        }
      ]
    },
    {
      "cell_type": "code",
      "source": [
        "#Comprimento de uma String\n",
        "print(len(s))"
      ],
      "metadata": {
        "colab": {
          "base_uri": "https://localhost:8080/"
        },
        "id": "XBmWyO3RtOpb",
        "outputId": "20b96e68-3883-4382-ffe7-c3b526efaf73"
      },
      "execution_count": null,
      "outputs": [
        {
          "output_type": "stream",
          "name": "stdout",
          "text": [
            "6\n"
          ]
        }
      ]
    },
    {
      "cell_type": "code",
      "source": [
        "print(s[len(s)]) "
      ],
      "metadata": {
        "colab": {
          "base_uri": "https://localhost:8080/"
        },
        "id": "zmsnDSSes6va",
        "outputId": "deb8e316-2f1d-406e-a395-75128604958a"
      },
      "execution_count": null,
      "outputs": [
        {
          "output_type": "stream",
          "name": "stdout",
          "text": [
            "P\n"
          ]
        }
      ]
    },
    {
      "cell_type": "code",
      "source": [
        "print(s[len(s)-1])"
      ],
      "metadata": {
        "colab": {
          "base_uri": "https://localhost:8080/"
        },
        "id": "1FlL-hg4tLTL",
        "outputId": "1a2eda20-02a1-46ce-f1c3-e2c4538f7a71"
      },
      "execution_count": null,
      "outputs": [
        {
          "output_type": "stream",
          "name": "stdout",
          "text": [
            "n\n"
          ]
        }
      ]
    },
    {
      "cell_type": "code",
      "source": [
        "#Acesso indireto relativo\n",
        "print(s[-1:-7:-1])\n",
        "print(s[-2])\n",
        "print(s[-3])\n",
        "print(s[-4])\n",
        "print(s[-5])\n",
        "print(s[-6])"
      ],
      "metadata": {
        "colab": {
          "base_uri": "https://localhost:8080/"
        },
        "id": "Z-mjWKHttlMs",
        "outputId": "aaa871d0-a021-4ad1-97a0-581b13d21427"
      },
      "execution_count": null,
      "outputs": [
        {
          "output_type": "stream",
          "name": "stdout",
          "text": [
            "nohty\n",
            "o\n",
            "h\n",
            "t\n",
            "y\n",
            "P\n"
          ]
        }
      ]
    },
    {
      "cell_type": "code",
      "source": [
        "#Fatiamento de uma String\n",
        "#Regra: s[start, stop, step]\n",
        "print(\"Aqui: \", s[-1:-(len(s)+1):-1])\n",
        "print(s[0:2])\n",
        "print(s[:2])\n",
        "print(s[3:])\n",
        "print(s[1:5:2])\n",
        "print(s[3:6:2])\n",
        "print(s[3::2])\n",
        "print(s[::3])"
      ],
      "metadata": {
        "colab": {
          "base_uri": "https://localhost:8080/"
        },
        "id": "U1PJ-8fXt-mt",
        "outputId": "96c45740-9987-4606-88f0-52605959d7dc"
      },
      "execution_count": null,
      "outputs": [
        {
          "output_type": "stream",
          "name": "stdout",
          "text": [
            "Aqui:  nohtyP\n",
            "Py\n",
            "Py\n",
            "hon\n",
            "yh\n",
            "hn\n",
            "hn\n",
            "Ph\n"
          ]
        }
      ]
    },
    {
      "cell_type": "code",
      "source": [
        "#Ainda sobre fatiamento de Strings podemos utilizar índices negativos\n",
        "print(s[::])\n",
        "print(s[-1:])\n",
        "print(s[0:-2])\n",
        "print(s[-3:-1])\n",
        "print(s[-5:6])\n",
        "print(s[-1:-7:-1])"
      ],
      "metadata": {
        "colab": {
          "base_uri": "https://localhost:8080/"
        },
        "id": "pV3L8yvDucrC",
        "outputId": "ad80fb14-3d2c-44e5-b57c-2d0dc04ed875"
      },
      "execution_count": null,
      "outputs": [
        {
          "output_type": "stream",
          "name": "stdout",
          "text": [
            "Python\n",
            "n\n",
            "Pyth\n",
            "ho\n",
            "ython\n",
            "nohtyP\n"
          ]
        }
      ]
    },
    {
      "cell_type": "code",
      "source": [
        "#Pertinência de sub-string\n",
        "print(\"P\" in s)\n",
        "print(\"p\" in s)\n",
        "print(\"n\" in s)\n",
        "print(s in s)"
      ],
      "metadata": {
        "colab": {
          "base_uri": "https://localhost:8080/"
        },
        "id": "GxWRBnX8wC_D",
        "outputId": "ebf0f6a1-6478-4504-be52-7decf0a247a6"
      },
      "execution_count": null,
      "outputs": [
        {
          "output_type": "stream",
          "name": "stdout",
          "text": [
            "True\n",
            "False\n",
            "True\n",
            "True\n"
          ]
        }
      ]
    },
    {
      "cell_type": "code",
      "source": [
        "#Métodos associados aos Objetos Strings\n",
        "print(\"Fuctura\".upper()) #tudo maiúsculo\n",
        "print(\"FUCtura\".lower()) #tudo minúsculo\n",
        "print(\"python na fuctura!\".title()) #Só a primeira letra maiúscula\n",
        "frase = \"python e legal!\"\n",
        "teste = (\"\\n\".join(frase)) \n",
        "#print(teste)\n",
        "print(frase.split()) #o split sem argumento usa espaço como quebra."
      ],
      "metadata": {
        "colab": {
          "base_uri": "https://localhost:8080/"
        },
        "id": "WiyeH16cwznJ",
        "outputId": "63209674-a19f-4516-c66a-22190f7530d9"
      },
      "execution_count": null,
      "outputs": [
        {
          "output_type": "stream",
          "name": "stdout",
          "text": [
            "FUCTURA\n",
            "fuctura\n",
            "Python Na Fuctura!\n",
            "['python', 'e', 'legal!']\n"
          ]
        }
      ]
    },
    {
      "cell_type": "code",
      "source": [
        "#Interpolação\n",
        "print(\"Pra mim %s\" %(frase))\n",
        "print(\"Eu tenho %04d anos\" %(270))\n"
      ],
      "metadata": {
        "colab": {
          "base_uri": "https://localhost:8080/"
        },
        "id": "U-djgx9DxgsN",
        "outputId": "3d5aea05-70f9-4203-efaf-708d8fd90b40"
      },
      "execution_count": null,
      "outputs": [
        {
          "output_type": "stream",
          "name": "stdout",
          "text": [
            "Pra mim python e legal!\n",
            "Eu tenho 0270 anos\n"
          ]
        }
      ]
    },
    {
      "cell_type": "code",
      "source": [
        ""
      ],
      "metadata": {
        "id": "6RNK6Pq3y85F"
      },
      "execution_count": null,
      "outputs": []
    }
  ]
}