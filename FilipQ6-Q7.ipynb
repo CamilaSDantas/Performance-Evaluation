{
  "nbformat": 4,
  "nbformat_minor": 0,
  "metadata": {
    "colab": {
      "name": "ADS.ipynb",
      "provenance": [],
      "include_colab_link": true
    },
    "kernelspec": {
      "name": "python3",
      "display_name": "Python 3"
    },
    "language_info": {
      "name": "python"
    }
  },
  "cells": [
    {
      "cell_type": "markdown",
      "metadata": {
        "id": "view-in-github",
        "colab_type": "text"
      },
      "source": [
        "<a href=\"https://colab.research.google.com/github/CamilaSDantas/Performance-Evaluation/blob/main/FilipQ6-Q7.ipynb\" target=\"_parent\"><img src=\"https://colab.research.google.com/assets/colab-badge.svg\" alt=\"Open In Colab\"/></a>"
      ]
    },
    {
      "cell_type": "code",
      "execution_count": null,
      "metadata": {
        "id": "SJ1n0QidhboH"
      },
      "outputs": [],
      "source": [
        "import numpy as np\n",
        "import pandas as pd\n",
        "import matplotlib.pyplot as plt\n",
        "import seaborn as sns\n",
        "from scipy import stats\n",
        "from sklearn.linear_model import LinearRegression\n",
        "import statsmodels.api as sm\n",
        "\n",
        "%matplotlib inline\n",
        "\n"
      ]
    },
    {
      "cell_type": "markdown",
      "source": [
        "# Q6"
      ],
      "metadata": {
        "id": "9ObttBuXkG4S"
      }
    },
    {
      "cell_type": "code",
      "source": [
        "\n",
        "d = {'x': [1.1, 2.3, 2.8, 4.3, 5.4, 4.9, 7.1, 8.2, 8.9, 10.3, 11.4, 11.9, 13.2, 14.3, 14.9], \n",
        "     'y': [7.00, 14.00, 13.00, 15.40, 16.90, 16.70, 18.00, 17.80, 18.40, 18.70, 17.80, 18.60, 19.00, 21.00, 20.00]\n",
        "}\n",
        "\n",
        "df = pd.DataFrame(data=d)\n",
        "df\n",
        "X, y = df[['x']], df[['y']]\n",
        "\n",
        "regressor = LinearRegression()\n",
        "regressor.fit(X, y)\n",
        "\n",
        "plt.scatter(X, y, color = 'red')\n",
        "plt.plot(X, regressor.predict(X), color = 'blue')\n",
        "plt.title('Q6')\n",
        "plt.xlabel('X')\n",
        "plt.ylabel('y')\n",
        "plt.show()"
      ],
      "metadata": {
        "colab": {
          "base_uri": "https://localhost:8080/",
          "height": 295
        },
        "id": "kftav6wwi5Wp",
        "outputId": "362e9d6c-7327-424b-b692-7965b19f40be"
      },
      "execution_count": null,
      "outputs": [
        {
          "output_type": "display_data",
          "data": {
            "text/plain": [
              "<Figure size 432x288 with 1 Axes>"
            ],
            "image/png": "[encoded data removed]"
          },
          "metadata": {
            "needs_background": "light"
          }
        }
      ]
    },
    {
      "cell_type": "code",
      "source": [
        "# (m, b) = np.polyfit(d['x'], d['y'], 1)\n",
        "# yp = np.polyval([m, b], d['x'])\n",
        "# stats.linregress(d['x'], yp)\n",
        "\n",
        "\n",
        "model = sm.OLS(np.array(d['y']), np.array(d['x']))\n",
        "result = model.fit()\n",
        "result.summary()\n",
        "\n"
      ],
      "metadata": {
        "colab": {
          "base_uri": "https://localhost:8080/",
          "height": 465
        },
        "id": "hFTaPAb8kJeb",
        "outputId": "d8177cf6-bc36-4263-f5f1-005dc6264025"
      },
      "execution_count": null,
      "outputs": [
        {
          "output_type": "stream",
          "name": "stderr",
          "text": [
            "/usr/local/lib/python3.7/dist-packages/scipy/stats/stats.py:1535: UserWarning: kurtosistest only valid for n>=20 ... continuing anyway, n=15\n",
            "  \"anyway, n=%i\" % int(n))\n"
          ]
        },
        {
          "output_type": "execute_result",
          "data": {
            "text/plain": [
              "<class 'statsmodels.iolib.summary.Summary'>\n",
              "\"\"\"\n",
              "                                 OLS Regression Results                                \n",
              "=======================================================================================\n",
              "Dep. Variable:                      y   R-squared (uncentered):                   0.885\n",
              "Model:                            OLS   Adj. R-squared (uncentered):              0.877\n",
              "Method:                 Least Squares   F-statistic:                              108.2\n",
              "Date:                Wed, 15 Jun 2022   Prob (F-statistic):                    5.72e-08\n",
              "Time:                        23:05:55   Log-Likelihood:                         -47.661\n",
              "No. Observations:                  15   AIC:                                      97.32\n",
              "Df Residuals:                      14   BIC:                                      98.03\n",
              "Df Model:                           1                                                  \n",
              "Covariance Type:            nonrobust                                                  \n",
              "==============================================================================\n",
              "                 coef    std err          t      P>|t|      [0.025      0.975]\n",
              "------------------------------------------------------------------------------\n",
              "x1             1.7594      0.169     10.402      0.000       1.397       2.122\n",
              "==============================================================================\n",
              "Omnibus:                        3.527   Durbin-Watson:                   0.119\n",
              "Prob(Omnibus):                  0.171   Jarque-Bera (JB):                1.343\n",
              "Skew:                          -0.273   Prob(JB):                        0.511\n",
              "Kurtosis:                       1.640   Cond. No.                         1.00\n",
              "==============================================================================\n",
              "\n",
              "Warnings:\n",
              "[1] Standard Errors assume that the covariance matrix of the errors is correctly specified.\n",
              "\"\"\""
            ],
            "text/html": [
              "<table class=\"simpletable\">\n",
              "<caption>OLS Regression Results</caption>\n",
              "<tr>\n",
              "  <th>Dep. Variable:</th>            <td>y</td>        <th>  R-squared (uncentered):</th>      <td>   0.885</td>\n",
              "</tr>\n",
              "<tr>\n",
              "  <th>Model:</th>                   <td>OLS</td>       <th>  Adj. R-squared (uncentered):</th> <td>   0.877</td>\n",
              "</tr>\n",
              "<tr>\n",
              "  <th>Method:</th>             <td>Least Squares</td>  <th>  F-statistic:       </th>          <td>   108.2</td>\n",
              "</tr>\n",
              "<tr>\n",
              "  <th>Date:</th>             <td>Wed, 15 Jun 2022</td> <th>  Prob (F-statistic):</th>          <td>5.72e-08</td>\n",
              "</tr>\n",
              "<tr>\n",
              "  <th>Time:</th>                 <td>23:05:55</td>     <th>  Log-Likelihood:    </th>          <td> -47.661</td>\n",
              "</tr>\n",
              "<tr>\n",
              "  <th>No. Observations:</th>      <td>    15</td>      <th>  AIC:               </th>          <td>   97.32</td>\n",
              "</tr>\n",
              "<tr>\n",
              "  <th>Df Residuals:</th>          <td>    14</td>      <th>  BIC:               </th>          <td>   98.03</td>\n",
              "</tr>\n",
              "<tr>\n",
              "  <th>Df Model:</th>              <td>     1</td>      <th>                     </th>              <td> </td>   \n",
              "</tr>\n",
              "<tr>\n",
              "  <th>Covariance Type:</th>      <td>nonrobust</td>    <th>                     </th>              <td> </td>   \n",
              "</tr>\n",
              "</table>\n",
              "<table class=\"simpletable\">\n",
              "<tr>\n",
              "   <td></td>     <th>coef</th>     <th>std err</th>      <th>t</th>      <th>P>|t|</th>  <th>[0.025</th>    <th>0.975]</th>  \n",
              "</tr>\n",
              "<tr>\n",
              "  <th>x1</th> <td>    1.7594</td> <td>    0.169</td> <td>   10.402</td> <td> 0.000</td> <td>    1.397</td> <td>    2.122</td>\n",
              "</tr>\n",
              "</table>\n",
              "<table class=\"simpletable\">\n",
              "<tr>\n",
              "  <th>Omnibus:</th>       <td> 3.527</td> <th>  Durbin-Watson:     </th> <td>   0.119</td>\n",
              "</tr>\n",
              "<tr>\n",
              "  <th>Prob(Omnibus):</th> <td> 0.171</td> <th>  Jarque-Bera (JB):  </th> <td>   1.343</td>\n",
              "</tr>\n",
              "<tr>\n",
              "  <th>Skew:</th>          <td>-0.273</td> <th>  Prob(JB):          </th> <td>   0.511</td>\n",
              "</tr>\n",
              "<tr>\n",
              "  <th>Kurtosis:</th>      <td> 1.640</td> <th>  Cond. No.          </th> <td>    1.00</td>\n",
              "</tr>\n",
              "</table><br/><br/>Warnings:<br/>[1] Standard Errors assume that the covariance matrix of the errors is correctly specified."
            ]
          },
          "metadata": {},
          "execution_count": 30
        }
      ]
    },
    {
      "cell_type": "code",
      "source": [
        "# Fitting Polynomial Regression to the dataset\n",
        "from sklearn.preprocessing import PolynomialFeatures\n",
        " \n",
        "q7 = {\n",
        "    'x': [4.5, 11.4, 11.5, 16.6, 37.1, 39.0, 40.2, 40.8, 46.6, 61.6, 77.1, 81.7, 83.3, 85.6, 89.3],\n",
        "    'y': [18.3, 17.7, 14.5, 12.3, 12.3, 12.2, 12.0, 9.1, 9.1, 8.4, 6.5, 5.8, 2.3, 1.9, 0.0]\n",
        "}\n",
        "\n",
        "df = pd.DataFrame(data=q7)\n",
        "X, y = df[['x']], df[['y']]\n",
        "\n",
        "# Visualising the Polynomial Regression results\n",
        "plt.scatter(X, y, color = 'blue')\n",
        "\n",
        "for degree, color  in [(1, 'red'), (2, 'yellow'),  (3, 'purple'), (4, 'black')]:\n",
        "  poly = PolynomialFeatures(degree = degree)\n",
        "  X_poly = poly.fit_transform(X)\n",
        "  poly.fit(X_poly, y)\n",
        "\n",
        "  lin2 = LinearRegression()\n",
        "  lin2.fit(X_poly, y)\n",
        "\n",
        "  \n",
        "  plt.plot(X, lin2.predict(poly.fit_transform(X)), color=color, label=f'degree={degree}')\n",
        "\n",
        "plt.title('Q7')\n",
        "plt.xlabel('X')\n",
        "plt.ylabel('y')\n",
        "plt.legend(loc=\"upper right\")\n",
        "plt.show()"
      ],
      "metadata": {
        "colab": {
          "base_uri": "https://localhost:8080/",
          "height": 295
        },
        "id": "s3PLCmEbnkIR",
        "outputId": "3db22907-7b47-4556-b4e1-13d259229142"
      },
      "execution_count": null,
      "outputs": [
        {
          "output_type": "display_data",
          "data": {
            "text/plain": [
              "<Figure size 432x288 with 1 Axes>"
            ],
            "image/png": "[encoded data removed]"
          },
          "metadata": {
            "needs_background": "light"
          }
        }
      ]
    }
  ]
}